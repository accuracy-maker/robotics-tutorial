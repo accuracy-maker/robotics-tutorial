{
 "cells": [
  {
   "cell_type": "markdown",
   "metadata": {},
   "source": [
    "## tutorial\n",
    "\n",
    "link:https://colab.research.google.com/drive/1oNxRpRnht2Ogu5Id76YLLg_hkmwy-yKy?usp=sharing#scrollTo=vs2ciyFsFhZz"
   ]
  },
  {
   "cell_type": "code",
   "execution_count": 1,
   "metadata": {},
   "outputs": [],
   "source": [
    "from __future__ import annotations\n",
    "import gymnasium as gym\n",
    "import matplotlib.pyplot as plt\n",
    "from tqdm import tqdm\n",
    "from collections import defaultdict,namedtuple,deque\n",
    "import numpy as np\n",
    "import math\n",
    "import random\n",
    "import matplotlib\n",
    "from itertools import count\n",
    "\n",
    "import torch\n",
    "import torch.nn as nn\n",
    "import torch.optim as optim\n",
    "import torch.nn.functional as F\n",
    "%matplotlib inline"
   ]
  },
  {
   "cell_type": "code",
   "execution_count": 2,
   "metadata": {},
   "outputs": [],
   "source": [
    "env=gym.make(\"CartPole-v1\",render_mode=\"rgb_array\")\n",
    "\n",
    "is_ipython = 'inline' in matplotlib.get_backend()\n",
    "if is_ipython:\n",
    "  from IPython import display\n",
    "\n",
    "plt.ion()\n",
    "\n",
    "device = torch.device(\"cuda\" if torch.cuda.is_available() else \"cpu\")"
   ]
  },
  {
   "cell_type": "code",
   "execution_count": 3,
   "metadata": {},
   "outputs": [],
   "source": [
    "Transition = namedtuple('Transition',('state','action','next_state','reward'))\n",
    "\n",
    "class ReplayMemory(object):\n",
    "    def __init__(self,capacity):\n",
    "        self.memory = deque([],maxlen=capacity)\n",
    "        \n",
    "    def push(self,*args):\n",
    "        self.memory.append(Transition(*args))\n",
    "        \n",
    "    def sample(self,batch_size):\n",
    "        return random.sample(self.memory,batch_size)\n",
    "    \n",
    "    def __len__(self):\n",
    "        return len(self.memory)"
   ]
  },
  {
   "cell_type": "markdown",
   "metadata": {},
   "source": [
    "## DQN\n",
    "\n",
    "Algorithm of DQN\n",
    "\n",
    "1. initialize the DQN with random weights\n",
    "\n",
    "2. "
   ]
  },
  {
   "cell_type": "code",
   "execution_count": 4,
   "metadata": {},
   "outputs": [],
   "source": [
    "class DQN(nn.Module):\n",
    "    # multi-layer perceptron with three layers\n",
    "    \n",
    "    # n_observation is input (state of enviroment) to the network\n",
    "    \n",
    "    def __init__(self,n_observations,n_actions):\n",
    "        super(DQN,self).__init__()\n",
    "        self.layer1 = nn.Linear(n_observations,128)\n",
    "        self.layer2 = nn.Linear(128,128)\n",
    "        self.layer3 = nn.Linear(128,n_actions)\n",
    "        \n",
    "    def forward(self,x):\n",
    "        x = F.relu(self.layer1(x))\n",
    "        x = F.relu(self.layer2(x))\n",
    "        return self.layer3(x)\n",
    "        "
   ]
  },
  {
   "cell_type": "code",
   "execution_count": 5,
   "metadata": {},
   "outputs": [],
   "source": [
    "#number of transitions samples from the replay buffer\n",
    "BATCH_SIZE = 128\n",
    "# GAMMAis the discount factor\n",
    "GAMMA = 0.99\n",
    "EPS_START = 0.9 # it is  the starting value of epsilon\n",
    "EPS_END = 0.05 # it is  the final value of epsilon\n",
    "#EPS_DECAY controls the rate of exponential decay of epsilon,\n",
    "#higher means slower decay \n",
    "EPS_DECAY = 1000  \n",
    "TAU = 0.005 #Update rate of the target network\n",
    "LR = 1e-4 #Learning rate of AdamW optimizer"
   ]
  },
  {
   "cell_type": "code",
   "execution_count": 6,
   "metadata": {},
   "outputs": [],
   "source": [
    "n_actions = env.action_space.n\n",
    "\n",
    "state, info = env.reset()\n",
    "\n",
    "n_observations = len(state)\n",
    "\n",
    "policy_net = DQN(n_observations,n_actions).to(device)\n",
    "target_net = DQN(n_observations,n_actions).to(device)\n",
    "\n",
    "target_net.load_state_dict(policy_net.state_dict())\n",
    "\n",
    "optimizer = optim.AdamW(policy_net.parameters(),lr = LR, amsgrad = True)\n",
    "\n",
    "memory = ReplayMemory(10000)\n",
    "\n",
    "steps_done = 0\n",
    "\n",
    "def select_action(state):\n",
    "    global steps_done\n",
    "    sample = random.random()\n",
    "    eps_threshold = EPS_END + (EPS_START - EPS_END) * \\\n",
    "        math.exp(-1. * steps_done / EPS_DECAY)\n",
    "        \n",
    "    steps_done += 1\n",
    "    if sample > eps_threshold:\n",
    "        with torch.no_grad():\n",
    "            \"\"\"\n",
    "            1. state: [n_observations,]\n",
    "            2. output of policy_net: [n_actions,]\n",
    "            3. t.max(1) return the max of dimension 1 and the return is a tuple (max_value,max_index)\n",
    "            4. t.max(1)[1]: the index of max value\n",
    "            \"\"\"\n",
    "            return policy_net(state).max(1)[1].view(1,1)\n",
    "    else:\n",
    "        return torch.tensor([[env.action_space.sample()]],\n",
    "                            device=device,dtype=torch.long)\n",
    "        \n",
    "episode_durations = []\n",
    "\n",
    "def plot_duration(show_result=False):\n",
    "    plt.figure(1)\n",
    "    durations_t = torch.tensor(episode_durations,dtype=torch.float)\n",
    "    if show_result:\n",
    "        plt.title('Result')\n",
    "    else:\n",
    "        plt.clf()\n",
    "        plt.title('Training')\n",
    "    plt.xlabel('Episode')\n",
    "    plt.ylabel('Duration')\n",
    "    plt.plot(durations_t.numpy())\n",
    "    \n",
    "    #shows the 100-episode moving average of the duration\n",
    "    if(len(durations_t) >= 100):\n",
    "        means = durations_t.unfold(0,1000,1).mean(1).view(-1)\n",
    "        means = torch.cat((torch.zeroes(99),means))\n",
    "        plt.plot(means.numpy())\n",
    "\n",
    "    plt.pause(0.001) #pause so that plots are updated\n",
    "    if is_ipython:\n",
    "        if not show_result:\n",
    "            display.display(plt.gcf())\n",
    "            display.clear_output(wait=True)\n",
    "        else:\n",
    "            display.display(plt.gcf())"
   ]
  },
  {
   "cell_type": "code",
   "execution_count": 7,
   "metadata": {},
   "outputs": [],
   "source": [
    "def optimize_model():\n",
    "    if len(memory) < BATCH_SIZE:\n",
    "        return\n",
    "    transition = memory.sample(BATCH_SIZE)\n",
    "    batch = Transition(*zip(*transition))\n",
    "    \n",
    "    non_final_mask = torch.tensor(tuple(map(lambda s: s is not None, batch.next_state)),device=device,dtype=torch.bool)\n",
    "    non_final_next_states = torch.cat([s for s in batch.next_state if s is not None])\n",
    "    \n",
    "    state_batch = torch.cat(batch.state)\n",
    "    action_batch = torch.cat(batch.action)\n",
    "    reward_batch = torch.cat(batch.reward)\n",
    "    \n",
    "    state_action_values = policy_net(state_batch).gather(1,action_batch)\n",
    "\n",
    "    next_state_values = torch.zeros(BATCH_SIZE,device=device)\n",
    "    \n",
    "    with torch.no_grad():\n",
    "        next_state_values[non_final_mask] = target_net(non_final_next_states).max(1)[0]\n",
    "\n",
    "    #expect q-value for each transition using the target network\n",
    "    #\n",
    "    expected_state_action_values = (next_state_values * GAMMA) + reward_batch\n",
    "\n",
    "\n",
    "    #Compute Huber loss\n",
    "    #smooth approximation of the mean square error loss , less\n",
    "    # sensitive\n",
    "    \n",
    "    criterion = nn.SmoothL1Loss()\n",
    "    loss = criterion(state_action_values ,\n",
    "                    expected_state_action_values.unsqueeze(1))\n",
    "\n",
    "    #Optimize the model\n",
    "    optimizer.zero_grad()\n",
    "    loss.backward()\n",
    "\n",
    "    #In-place gradient clipping\n",
    "    #maximum value = 100 to prevent exploding gradient problem\n",
    "    torch.nn.utils.clip_grad_value_(policy_net.parameters(),100)\n",
    "    optimizer.step()\n",
    "    "
   ]
  },
  {
   "cell_type": "code",
   "execution_count": 8,
   "metadata": {},
   "outputs": [
    {
     "name": "stdout",
     "output_type": "stream",
     "text": [
      "Complete\n"
     ]
    },
    {
     "data": {
      "image/png": "[encoded data removed]",
      "text/plain": [
       "<Figure size 640x480 with 1 Axes>"
      ]
     },
     "metadata": {},
     "output_type": "display_data"
    },
    {
     "data": {
      "text/plain": [
       "<Figure size 640x480 with 0 Axes>"
      ]
     },
     "metadata": {},
     "output_type": "display_data"
    },
    {
     "data": {
      "text/plain": [
       "<Figure size 640x480 with 0 Axes>"
      ]
     },
     "metadata": {},
     "output_type": "display_data"
    }
   ],
   "source": [
    "#@title Default title text\n",
    "if torch.cuda.is_available():\n",
    "  num_episodes = 600\n",
    "else:\n",
    "  num_episodes = 50\n",
    "\n",
    "#iterate for episodes\n",
    "for i_episode in range(num_episodes):\n",
    "  #intialize the environment and get it's state\n",
    "  state,info = env.reset()\n",
    "  state = torch.tensor(state,dtype=torch.float32,\n",
    "                       device=device).unsqueeze(0)\n",
    "  for t in count():\n",
    "    action = select_action(state)\n",
    "    observation , reward , terminated , truncated ,_ = env.step(action.item())\n",
    "    reward = torch.tensor([reward],device = device)\n",
    "\n",
    "    # frame = env.render()\n",
    "    # plt.imshow(frame)\n",
    "    # plt.show()\n",
    "\n",
    "    done  = terminated or truncated\n",
    "\n",
    "    if  terminated:\n",
    "      next_state = None\n",
    "    else:\n",
    "      next_state = torch.tensor(observation,dtype=torch.float32,device=device).unsqueeze(0)  \n",
    "\n",
    "    #store the transition in memory\n",
    "    memory.push(state,action,next_state,reward)\n",
    "\n",
    "    #move to the next state\n",
    "    state = next_state\n",
    "\n",
    "    #optimize\n",
    "    optimize_model()\n",
    "\n",
    "  #soft update the target network's wright by bledning policy network's weights\n",
    "  # and target network's weights using a hyperparameter called TAU\n",
    "    target_net_state_dict  = target_net.state_dict()\n",
    "    policy_net_state_dict  = target_net.state_dict()\n",
    "\n",
    "    for key in policy_net_state_dict:\n",
    "      target_net_state_dict[key] = policy_net_state_dict[key]*TAU + target_net_state_dict[key]*(1 - TAU)\n",
    "\n",
    "    if done:\n",
    "      episode_durations.append(t + 1)\n",
    "      plot_duration()\n",
    "      break\n",
    "\n",
    "print('Complete')\n",
    "plot_duration(show_result=True)\n",
    "plt.ioff()\n",
    "plt.show()       \n"
   ]
  }
 ],
 "metadata": {
  "kernelspec": {
   "display_name": "robotics",
   "language": "python",
   "name": "python3"
  },
  "language_info": {
   "codemirror_mode": {
    "name": "ipython",
    "version": 3
   },
   "file_extension": ".py",
   "mimetype": "text/x-python",
   "name": "python",
   "nbconvert_exporter": "python",
   "pygments_lexer": "ipython3",
   "version": "3.10.12"
  },
  "orig_nbformat": 4
 },
 "nbformat": 4,
 "nbformat_minor": 2
}
