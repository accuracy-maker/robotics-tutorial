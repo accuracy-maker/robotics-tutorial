{
 "cells": [
  {
   "cell_type": "markdown",
   "metadata": {},
   "source": [
    "# My implementation of Actor-Critic Method\n",
    "\n",
    "In this file, I will use the Panda-Robotics to evaluate my agent's perfermance"
   ]
  },
  {
   "cell_type": "markdown",
   "metadata": {},
   "source": [
    "## import some packages and check the env\n",
    "\n",
    "*Remerber:* we need to install panda_gym\n",
    "\n",
    "*pip install panda_gym*"
   ]
  },
  {
   "cell_type": "code",
   "execution_count": 1,
   "metadata": {},
   "outputs": [],
   "source": [
    "import gymnasium as gym\n",
    "import numpy as np\n",
    "# these are new packages in this file\n",
    "import panda_gym\n",
    "import stable_baselines3\n",
    "from stable_baselines3.common.vec_env import DummyVecEnv, VecNormalize\n",
    "from stable_baselines3.common.env_util import make_vec_env\n",
    "from collections import deque\n",
    "import matplotlib.pyplot as plt\n",
    "%matplotlib inline"
   ]
  },
  {
   "cell_type": "code",
   "execution_count": 2,
   "metadata": {},
   "outputs": [
    {
     "name": "stderr",
     "output_type": "stream",
     "text": [
      "pybullet build time: Oct  5 2023 20:55:18\n"
     ]
    },
    {
     "name": "stdout",
     "output_type": "stream",
     "text": [
      "argv[0]=--background_color_red=0.8745098114013672\n",
      "argv[1]=--background_color_green=0.21176470816135406\n",
      "argv[2]=--background_color_blue=0.1764705926179886\n",
      "state space: Dict('achieved_goal': Box(-10.0, 10.0, (3,), float32), 'desired_goal': Box(-10.0, 10.0, (3,), float32), 'observation': Box(-10.0, 10.0, (6,), float32))\n",
      "action space: (3,)\n"
     ]
    }
   ],
   "source": [
    "env_id = 'PandaReachDense-v3'\n",
    "env = gym.make(env_id)\n",
    "state_space = env.observation_space\n",
    "action_space = env.action_space.shape\n",
    "print(f'state space: {state_space}')\n",
    "print(f'action space: {action_space}')"
   ]
  },
  {
   "cell_type": "code",
   "execution_count": 3,
   "metadata": {},
   "outputs": [
    {
     "name": "stdout",
     "output_type": "stream",
     "text": [
      "argv[0]=--background_color_red=0.8745098114013672\n",
      "argv[1]=--background_color_green=0.21176470816135406\n",
      "argv[2]=--background_color_blue=0.1764705926179886\n"
     ]
    },
    {
     "data": {
      "text/plain": [
       "(1, 12)"
      ]
     },
     "execution_count": 3,
     "metadata": {},
     "output_type": "execute_result"
    }
   ],
   "source": [
    "env = make_vec_env(env_id, n_envs=1)\n",
    "\n",
    "env = VecNormalize(env, norm_obs=True, norm_reward=True, clip_obs=10.)\n",
    "\n",
    "obs = env.reset()\n",
    "\n",
    "achieved_goal = obs['achieved_goal']\n",
    "desired_goal = obs['desired_goal']\n",
    "observation = obs['observation']\n",
    "\n",
    "merged_array = np.concatenate([achieved_goal, desired_goal, observation], axis=-1)\n",
    "merged_array.shape"
   ]
  },
  {
   "cell_type": "code",
   "execution_count": 4,
   "metadata": {},
   "outputs": [
    {
     "data": {
      "text/plain": [
       "(OrderedDict([('achieved_goal',\n",
       "               array([[-0.6105237 , -0.72835785, -0.7316284 ]], dtype=float32)),\n",
       "              ('desired_goal',\n",
       "               array([[-0.00088541, -0.00065981,  0.00091386]], dtype=float32)),\n",
       "              ('observation',\n",
       "               array([[-0.6105237 , -0.72835785, -0.7316284 , -0.99650955, -0.9983161 ,\n",
       "                       -0.9974355 ]], dtype=float32))]),\n",
       " array([-10.], dtype=float32),\n",
       " array([False]),\n",
       " [{'is_success': False, 'TimeLimit.truncated': False}])"
      ]
     },
     "execution_count": 4,
     "metadata": {},
     "output_type": "execute_result"
    }
   ],
   "source": [
    "action  = env.action_space.sample()\n",
    "env.step(action)"
   ]
  },
  {
   "cell_type": "markdown",
   "metadata": {},
   "source": [
    "## Build compentes of the A2C algorithm\n",
    "\n",
    "1. Actor Network\n",
    "\n",
    "2. Value-function Network\n",
    "\n",
    "There are serval common baseline\n",
    "\n",
    "1. REINFORCE\n",
    "\n",
    "2. Q Actor-Critic\n",
    "\n",
    "3. Advantage Actor-Critic\n",
    "\n",
    "4. TD Actor-Critic"
   ]
  },
  {
   "cell_type": "code",
   "execution_count": 5,
   "metadata": {},
   "outputs": [],
   "source": [
    "import torch\n",
    "import torch.nn as nn\n",
    "import torch.nn.functional as F\n",
    "import torch.optim as optim\n",
    "# we don't use the Categorical since the actions are continuous\n",
    "# we should use the Normal to model the continous distribution\n",
    "from torch.distributions import Categorical,Normal"
   ]
  },
  {
   "cell_type": "code",
   "execution_count": 6,
   "metadata": {},
   "outputs": [],
   "source": [
    "# # we conbine the actornetwork and criticnetwork into a whole network\n",
    "# class ActorCritic(nn.Module):\n",
    "#     \"\"\"This network includes a net to output action and a net to output value\"\"\"\n",
    "#     def __init__(\n",
    "#         self,\n",
    "#         state_space,\n",
    "#         action_space,\n",
    "#         lr,\n",
    "#         device,\n",
    "#         fc1_unit = 64,\n",
    "#         fc2_unit = 64\n",
    "#     ):\n",
    "#         super(ActorCritic,self).__init__()\n",
    "#         self.state_space = state_space\n",
    "#         self.action_space = action_space\n",
    "#         self.lr = lr\n",
    "#         self.device = device\n",
    "        \n",
    "#         # nn.Sequential is really helpful\n",
    "#         # Actor\n",
    "#         self.actor = nn.Sequential(\n",
    "#             nn.Linear(state_space,fc1_unit),\n",
    "#             # in the sequential we should use the nn.ReLU() instead of torch.nn.functional.relu()\n",
    "#             # cause nn.ReLU is a module while functional.relu is a independent function\n",
    "#             nn.ReLU(),\n",
    "#             nn.Linear(fc1_unit,fc2_unit),\n",
    "#             nn.ReLU(),\n",
    "#             # action_space * 2: we aim to output the mean and std of the action distribution\n",
    "#             nn.Linear(fc2_unit,action_space*2)\n",
    "#         )\n",
    "        \n",
    "#         # Critic\n",
    "#         self.critic = nn.Sequential(\n",
    "#             nn.Linear(state_space,fc1_unit),\n",
    "#             nn.ReLU(),\n",
    "#             nn.Linear(fc1_unit,fc2_unit),\n",
    "#             nn.ReLU(),\n",
    "#             nn.Linear(fc2_unit,1) # output the value\n",
    "#         )\n",
    "        \n",
    "#         self.optimizer = optim.Adam(self.parameters(),lr = lr)\n",
    "#         self.to(self.device)\n",
    "        \n",
    "#     def forward(self,state):\n",
    "\n",
    "#         value = self.critic(state)\n",
    "        \n",
    "#         # output the mean and std of action distribution\n",
    "#         x = self.actor(state)\n",
    "#         # why log_std?\n",
    "#         # because the log_std is (-infinite, +infinite)\n",
    "#         mean,log_std = x[:,:self.action_space], x[:,self.action_space:]\n",
    "#         return value,mean,log_std\n",
    "    \n",
    "#     def process_input(self,x):\n",
    "#         achieved_goal = x['achieved_goal']\n",
    "#         desired_goal = x['desired_goal']\n",
    "#         observation = x['observation']\n",
    "#         merged_array = np.concatenate([achieved_goal, desired_goal, observation], axis=-1)\n",
    "#         state = torch.from_numpy(merged_array).float()\n",
    "#         return state"
   ]
  },
  {
   "cell_type": "code",
   "execution_count": 7,
   "metadata": {},
   "outputs": [],
   "source": [
    "# helper function: to concatenate the input and convert them to tensor\n",
    "def t(x):\n",
    "    achieved_goal = x['achieved_goal']\n",
    "    desired_goal = x['desired_goal']\n",
    "    observation = x['observation']\n",
    "    merged_array = np.concatenate([achieved_goal, desired_goal, observation], axis=-1)\n",
    "    return torch.from_numpy(merged_array).float()"
   ]
  },
  {
   "cell_type": "code",
   "execution_count": 8,
   "metadata": {},
   "outputs": [],
   "source": [
    "# I found that the results are bad and the agent can't learn anything easily, so I decide to split one network to two networks\n",
    "# which are updated sperately\n",
    "# Actor module, categorical actions only\n",
    "class Actor(nn.Module):\n",
    "    def __init__(self, state_space, action_space,lr,device):\n",
    "        super(Actor,self).__init__()\n",
    "        self.model = nn.Sequential(\n",
    "            nn.Linear(state_space, 64),\n",
    "            nn.Tanh(),\n",
    "            nn.Linear(64, 32),\n",
    "            nn.Tanh(),\n",
    "            nn.Linear(32, action_space * 2), #the acition space is continous\n",
    "        )\n",
    "        self.optimizer = optim.Adam(self.parameters(),lr=lr)\n",
    "        self.to(device)\n",
    "    \n",
    "    def forward(self, X):\n",
    "        return self.model(t(X))"
   ]
  },
  {
   "cell_type": "code",
   "execution_count": 9,
   "metadata": {},
   "outputs": [],
   "source": [
    "# Critic module\n",
    "class Critic(nn.Module):\n",
    "    def __init__(self, state_space,lr,device):\n",
    "        super().__init__()\n",
    "        self.model = nn.Sequential(\n",
    "            nn.Linear(state_space, 64),\n",
    "            nn.ReLU(),\n",
    "            nn.Linear(64, 32),\n",
    "            nn.ReLU(),\n",
    "            nn.Linear(32, 1)\n",
    "        )\n",
    "        self.optimizer = optim.Adam(self.parameters(),lr=lr)\n",
    "        self.to(device)\n",
    "    \n",
    "    def forward(self, X):\n",
    "        return self.model(t(X))"
   ]
  },
  {
   "cell_type": "markdown",
   "metadata": {},
   "source": [
    "## build an agent and play the game\n",
    "\n",
    "![algorithm_figure](/Users/gaohaitao/robotics-tutorial/Algotithms/A2C.png)\n",
    "\n",
    "*This picture is from https://towardsdatascience.com/understanding-actor-critic-methods-931b97b6df3f*"
   ]
  },
  {
   "cell_type": "code",
   "execution_count": 10,
   "metadata": {},
   "outputs": [],
   "source": [
    "class Agent():\n",
    "    def __init__(\n",
    "        self,\n",
    "        env: gym.envs,\n",
    "        state_space: int,\n",
    "        action_space: int,\n",
    "        lr: float,\n",
    "        device: torch.device,\n",
    "        gamma: float, # discounted rewards\n",
    "        n_training_episodes: int,\n",
    "        max_t: int\n",
    "    ):\n",
    "        # init the variables\n",
    "        self.env = env\n",
    "        self.state_space = state_space\n",
    "        self.action_space = action_space\n",
    "        self.lr = lr\n",
    "        self.device = device\n",
    "        self.gamma = gamma\n",
    "        self.n_training_episodes = n_training_episodes\n",
    "        self.max_t = max_t\n",
    "        \n",
    "        # self.actor_critic = ActorCritic(state_space,action_space,\n",
    "        #                                 lr,device)\n",
    "        self.actor = Actor(state_space,action_space,lr,device)\n",
    "        self.critic = Critic(state_space,lr,device)\n",
    "        \n",
    "    def act(self,state):\n",
    "        # choose an action given a state\n",
    "        ## Firstly, we should convert the state to torch.tensor since we need use GPU to train\n",
    "        ## This is new to the code because the input state is a Dict\n",
    "        ## The dict includes 'observation', 'achieved_goal', 'desired_goal'\n",
    "        # the operation of sampling action is different with previous codes\n",
    "        # we need use the Normal() to model the distribution using mean and log_std\n",
    "        # then, sample the action\n",
    "        act_out = self.actor(state)\n",
    "        mean = act_out[:,:self.action_space]\n",
    "        log_std = act_out[:,self.action_space:]\n",
    "        # convert log_std to std\n",
    "        std = torch.exp(log_std)\n",
    "        normal = Normal(mean,std)\n",
    "        action = normal.sample()\n",
    "        log_prob = normal.log_prob(action)\n",
    "        return action.numpy(),log_prob\n",
    "    \n",
    "    def step(self,action):\n",
    "        # the agent take the action and obtain the next observation and immedient reward\n",
    "        next_obs,reward,done,info = self.env.step(action)\n",
    "        return next_obs, reward, done\n",
    "    \n",
    "    def update(self,advantage,log_prob):\n",
    "        \"\"\"this is different with previous codes because we need to update two networks at each time_step\"\"\"\n",
    "        # Note that Variable 'advantages' must be tensor\n",
    "        # policy_loss = -torch.mean(advantage * log_prob)\n",
    "        # loss_array = -advantage.detach() * log_prob\n",
    "        # loss = torch.mean(loss_array)\n",
    "        policy_loss = torch.mean(-advantage.detach() * log_prob)\n",
    "        self.actor.optimizer.zero_grad()\n",
    "        policy_loss.backward()\n",
    "        self.actor.optimizer.step()\n",
    "        \n",
    "        \n",
    "        critic_loss = advantage.pow(2).mean()\n",
    "        self.critic.optimizer.zero_grad()\n",
    "        critic_loss.backward()\n",
    "        self.critic.optimizer.step()\n",
    "        \n",
    "    def train(self):\n",
    "        \"\"\"the agent will play many episodes and update it's parameters\"\"\"\n",
    "        scores_deque = deque(maxlen=100)\n",
    "        scores = []\n",
    "        avg_scores = []\n",
    "        \n",
    "        for episode in range(self.n_training_episodes):\n",
    "            # init some lists to store the infos\n",
    "            rewards = []\n",
    "            # in this method, we don't need to init saved_log_probs and rewards\n",
    "            # since we update the network at each timestep\n",
    "            # only need the immedient reward and predition of value\n",
    "            \n",
    "            # init the env where there isn't info\n",
    "            state = self.env.reset()\n",
    "            \n",
    "            # loop max_t\n",
    "            for t in range(self.max_t):\n",
    "                # sample an action\n",
    "                action,log_prob = self.act(state)\n",
    "                # stepforward\n",
    "                next_obs,reward,done = self.step(action)\n",
    "                rewards.append(reward)\n",
    "                # compute the advantage function\n",
    "                # A = r + gamma * V(next) - V(now)\n",
    "                value = self.critic(state)\n",
    "                value_ = self.critic(next_obs)\n",
    "                advantage = torch.tensor(reward).float() + self.gamma * value_ * (1 - int(done)) - value\n",
    "                self.update(advantage,log_prob)\n",
    "                \n",
    "                if done:\n",
    "                    break\n",
    "                \n",
    "                state = next_obs\n",
    "            \n",
    "            scores_deque.append(sum(rewards))\n",
    "            scores.append(sum(rewards))\n",
    "            avg_scores.append(np.mean(scores_deque))\n",
    "            \n",
    "            if episode % 100 == 0:\n",
    "                print(f'episode: {episode} | average score: {np.mean(scores_deque)}')\n",
    "                \n",
    "        fig, (ax1, ax2) = plt.subplots(2, 1, sharex=True)\n",
    "        fig.suptitle('Training Progress')\n",
    "\n",
    "        ax1.plot(scores, label='Episode Scores', color='b')\n",
    "        ax1.set_xlabel('Episode')\n",
    "        ax1.set_ylabel('scores', color='b')\n",
    "        ax1.tick_params(axis='y', labelcolor='b')\n",
    "\n",
    "        ax2.plot(avg_scores, label='Episode Average Score', color='r')\n",
    "        ax2.set_xlabel('Episode')\n",
    "        ax2.set_ylabel('Average Score', color='r')\n",
    "        ax2.tick_params(axis='y', labelcolor='r')\n",
    "        \n",
    "        "
   ]
  },
  {
   "cell_type": "code",
   "execution_count": 11,
   "metadata": {},
   "outputs": [],
   "source": [
    "# Hyperparameters\n",
    "state_space = merged_array.shape[-1]\n",
    "action_space = env.action_space.shape[0]\n",
    "lr = 0.001\n",
    "device = torch.device('cuda' if torch.cuda.is_available() else 'cpu')\n",
    "gamma = 0.9\n",
    "n_training_episodes = 2000\n",
    "max_t = 10000\n",
    "\n",
    "RoboticsAgent = Agent(\n",
    "    env,\n",
    "    state_space,\n",
    "    action_space,\n",
    "    lr,\n",
    "    device,\n",
    "    gamma,\n",
    "    n_training_episodes,\n",
    "    max_t\n",
    ")"
   ]
  },
  {
   "cell_type": "code",
   "execution_count": 12,
   "metadata": {},
   "outputs": [
    {
     "name": "stderr",
     "output_type": "stream",
     "text": [
      "/var/folders/xt/fs8f0mrx5c7d2_ny5vdyy0ym0000gp/T/ipykernel_23534/3455426554.py:95: DeprecationWarning: Conversion of an array with ndim > 0 to a scalar is deprecated, and will error in future. Ensure you extract a single element from your array before performing this operation. (Deprecated NumPy 1.25.)\n",
      "  advantage = torch.tensor(reward).float() + self.gamma * value_ * (1 - int(done)) - value\n"
     ]
    },
    {
     "name": "stdout",
     "output_type": "stream",
     "text": [
      "episode: 0 | average score: -16.281408309936523\n",
      "episode: 100 | average score: -3.2839624881744385\n",
      "episode: 200 | average score: -2.8379480838775635\n",
      "episode: 300 | average score: -2.6558077335357666\n",
      "episode: 400 | average score: -4.031222343444824\n",
      "episode: 500 | average score: -4.165024280548096\n",
      "episode: 600 | average score: -3.6145904064178467\n",
      "episode: 700 | average score: -3.2773232460021973\n",
      "episode: 800 | average score: -2.437318801879883\n",
      "episode: 900 | average score: -2.296854019165039\n",
      "episode: 1000 | average score: -2.2889769077301025\n",
      "episode: 1100 | average score: -1.7417058944702148\n",
      "episode: 1200 | average score: -1.7187095880508423\n",
      "episode: 1300 | average score: -1.9060144424438477\n",
      "episode: 1400 | average score: -2.9497971534729004\n",
      "episode: 1500 | average score: -3.6114282608032227\n",
      "episode: 1600 | average score: -3.6955323219299316\n",
      "episode: 1700 | average score: -3.6326990127563477\n",
      "episode: 1800 | average score: -3.1411712169647217\n",
      "episode: 1900 | average score: -2.9175422191619873\n"
     ]
    },
    {
     "data": {
      "image/png": "[encoded data removed]",
      "text/plain": [
       "<Figure size 640x480 with 2 Axes>"
      ]
     },
     "metadata": {},
     "output_type": "display_data"
    }
   ],
   "source": [
    "RoboticsAgent.train()"
   ]
  },
  {
   "cell_type": "markdown",
   "metadata": {},
   "source": [
    "According to the training progress figure, the dense reward are every close to zero that is a great result since the reward is the negtive\n",
    "Euclidean distance between the achieved goal position and the desired goal position.\n",
    "\n",
    "Don't worry, if you get the negtive rewards!"
   ]
  }
 ],
 "metadata": {
  "kernelspec": {
   "display_name": "robotics",
   "language": "python",
   "name": "python3"
  },
  "language_info": {
   "codemirror_mode": {
    "name": "ipython",
    "version": 3
   },
   "file_extension": ".py",
   "mimetype": "text/x-python",
   "name": "python",
   "nbconvert_exporter": "python",
   "pygments_lexer": "ipython3",
   "version": "3.10.12"
  },
  "orig_nbformat": 4
 },
 "nbformat": 4,
 "nbformat_minor": 2
}
