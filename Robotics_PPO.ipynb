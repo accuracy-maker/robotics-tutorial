{
 "cells": [
  {
   "cell_type": "markdown",
   "metadata": {},
   "source": [
    "# My implementation of PPO Algorithm"
   ]
  },
  {
   "cell_type": "markdown",
   "metadata": {},
   "source": [
    "## import some packages and check the env"
   ]
  },
  {
   "cell_type": "code",
   "execution_count": 1,
   "metadata": {},
   "outputs": [],
   "source": [
    "import gymnasium as gym\n",
    "import numpy as np\n",
    "# these are new packages in this file\n",
    "import panda_gym\n",
    "import stable_baselines3\n",
    "from stable_baselines3.common.vec_env import DummyVecEnv, VecNormalize\n",
    "from stable_baselines3.common.env_util import make_vec_env\n",
    "from collections import deque\n",
    "import matplotlib.pyplot as plt\n",
    "import random\n",
    "import imageio\n",
    "%matplotlib inline"
   ]
  },
  {
   "cell_type": "code",
   "execution_count": 2,
   "metadata": {},
   "outputs": [
    {
     "name": "stderr",
     "output_type": "stream",
     "text": [
      "pybullet build time: Oct  5 2023 20:55:18\n"
     ]
    },
    {
     "name": "stdout",
     "output_type": "stream",
     "text": [
      "argv[0]=--background_color_red=0.8745098114013672\n",
      "argv[1]=--background_color_green=0.21176470816135406\n",
      "argv[2]=--background_color_blue=0.1764705926179886\n",
      "state space: Dict('achieved_goal': Box(-10.0, 10.0, (3,), float32), 'desired_goal': Box(-10.0, 10.0, (3,), float32), 'observation': Box(-10.0, 10.0, (6,), float32))\n",
      "action space: (3,)\n"
     ]
    }
   ],
   "source": [
    "env_id = 'PandaReachDense-v3'\n",
    "env = gym.make(env_id)\n",
    "state_space = env.observation_space\n",
    "action_space = env.action_space.shape\n",
    "print(f'state space: {state_space}')\n",
    "print(f'action space: {action_space}')"
   ]
  },
  {
   "cell_type": "code",
   "execution_count": 3,
   "metadata": {},
   "outputs": [
    {
     "name": "stdout",
     "output_type": "stream",
     "text": [
      "argv[0]=--background_color_red=0.8745098114013672\n",
      "argv[1]=--background_color_green=0.21176470816135406\n",
      "argv[2]=--background_color_blue=0.1764705926179886\n"
     ]
    },
    {
     "data": {
      "text/plain": [
       "(1, 12)"
      ]
     },
     "execution_count": 3,
     "metadata": {},
     "output_type": "execute_result"
    }
   ],
   "source": [
    "env = make_vec_env(env_id, n_envs=1)\n",
    "\n",
    "env = VecNormalize(env, norm_obs=True, norm_reward=True, clip_obs=10.)\n",
    "\n",
    "obs = env.reset()\n",
    "\n",
    "achieved_goal = obs['achieved_goal']\n",
    "desired_goal = obs['desired_goal']\n",
    "observation = obs['observation']\n",
    "\n",
    "merged_array = np.concatenate([achieved_goal, desired_goal, observation], axis=-1)\n",
    "merged_array.shape"
   ]
  },
  {
   "cell_type": "code",
   "execution_count": 4,
   "metadata": {},
   "outputs": [
    {
     "data": {
      "text/plain": [
       "(OrderedDict([('achieved_goal',\n",
       "               array([[0.61660784, 0.76940197, 0.6517585 ]], dtype=float32)),\n",
       "              ('desired_goal',\n",
       "               array([[ 0.00013169, -0.00035006,  0.00164964]], dtype=float32)),\n",
       "              ('observation',\n",
       "               array([[0.61660784, 0.76940197, 0.6517585 , 0.9982495 , 0.99903286,\n",
       "                       0.9996298 ]], dtype=float32))]),\n",
       " array([-7.913147], dtype=float32),\n",
       " array([False]),\n",
       " [{'is_success': False, 'TimeLimit.truncated': False}])"
      ]
     },
     "execution_count": 4,
     "metadata": {},
     "output_type": "execute_result"
    }
   ],
   "source": [
    "action  = env.action_space.sample()\n",
    "env.step(action)"
   ]
  },
  {
   "cell_type": "markdown",
   "metadata": {},
   "source": [
    "## Build networks of PPO\n",
    "\n",
    "The networks are same with A2C"
   ]
  },
  {
   "cell_type": "code",
   "execution_count": 5,
   "metadata": {},
   "outputs": [],
   "source": [
    "import torch\n",
    "import torch.nn as nn\n",
    "import torch.nn.functional as F\n",
    "import torch.optim as optim\n",
    "# we don't use the Categorical since the actions are continuous\n",
    "# we should use the Normal to model the continous distribution\n",
    "from torch.distributions import Categorical,Normal"
   ]
  },
  {
   "cell_type": "code",
   "execution_count": 6,
   "metadata": {},
   "outputs": [],
   "source": [
    "# helper function: to concatenate the input and convert them to tensor\n",
    "def t(x):\n",
    "    achieved_goal = x['achieved_goal']\n",
    "    desired_goal = x['desired_goal']\n",
    "    observation = x['observation']\n",
    "    merged_array = np.concatenate([achieved_goal, desired_goal, observation], axis=-1)\n",
    "    return torch.from_numpy(merged_array).float()"
   ]
  },
  {
   "cell_type": "code",
   "execution_count": 7,
   "metadata": {},
   "outputs": [],
   "source": [
    "class Actor(nn.Module):\n",
    "    def __init__(self, state_space, action_space,lr,device):\n",
    "        super(Actor,self).__init__()\n",
    "        self.model = nn.Sequential(\n",
    "            nn.Linear(state_space, 64),\n",
    "            nn.Tanh(),\n",
    "            nn.Linear(64, 32),\n",
    "            nn.Tanh(),\n",
    "            nn.Linear(32, action_space * 2), #the acition space is continous\n",
    "        )\n",
    "        self.optimizer = optim.Adam(self.parameters(),lr=lr)\n",
    "        self.to(device)\n",
    "    \n",
    "    def forward(self, X):\n",
    "        return self.model(t(X))"
   ]
  },
  {
   "cell_type": "code",
   "execution_count": 8,
   "metadata": {},
   "outputs": [],
   "source": [
    "class Critic(nn.Module):\n",
    "    def __init__(self, state_space,lr,device):\n",
    "        super().__init__()\n",
    "        self.model = nn.Sequential(\n",
    "            nn.Linear(state_space, 64),\n",
    "            nn.ReLU(),\n",
    "            nn.Linear(64,32),\n",
    "            nn.ReLU(),\n",
    "            nn.Linear(32, 1)\n",
    "        )\n",
    "        self.optimizer = optim.Adam(self.parameters(),lr=lr)\n",
    "        self.to(device)\n",
    "    \n",
    "    def forward(self, X):\n",
    "        return self.model(t(X))"
   ]
  },
  {
   "cell_type": "markdown",
   "metadata": {},
   "source": [
    "![clip](Algotithms/clipped.jpg)"
   ]
  },
  {
   "cell_type": "code",
   "execution_count": null,
   "metadata": {},
   "outputs": [],
   "source": [
    "class Agent():\n",
    "    def __init__(\n",
    "        self,\n",
    "        env: gym.envs,\n",
    "        state_space: int,\n",
    "        action_space: int,\n",
    "        lr: float,\n",
    "        device: torch.device,\n",
    "        gamma: float, # discounted rewards\n",
    "        n_training_episodes: int,\n",
    "        n_eval_episodes: int,\n",
    "        max_t: int \n",
    "    ):\n",
    "         # init the variables\n",
    "        self.env = env\n",
    "        self.state_space = state_space\n",
    "        self.action_space = action_space\n",
    "        self.lr = lr\n",
    "        self.device = device\n",
    "        self.gamma = gamma\n",
    "        self.n_training_episodes = n_training_episodes\n",
    "        self.n_eval_episodes = n_eval_episodes\n",
    "        self.max_t = max_t\n",
    "        \n",
    "        # self.actor_critic = ActorCritic(state_space,action_space,\n",
    "        #                                 lr,device)\n",
    "        self.actor = Actor(state_space,action_space,lr,device)\n",
    "        self.critic = Critic(state_space,lr,device)\n",
    "        \n",
    "    def act(self,state):\n",
    "        # input: state (Batch,12)\n",
    "        # output: action,log_prob and entropy\n",
    "        act_out = self.actor(state)\n",
    "        mean = act_out[:,:self.action_space]\n",
    "        log_std = act_out[:,self.action_space:]\n",
    "        std = torch.exp(log_std)\n",
    "        normal = Normal(mean,std)\n",
    "        action = normal.sample()\n",
    "        log_prob = normal.log_prob(action)\n",
    "        entropy = normal.entropy()\n",
    "        return action.numpy(),log_prob,entropy\n",
    "    \n",
    "    def step(self,action):\n",
    "        # the agent take the action and obtain the next observation and immedient reward\n",
    "        next_obs,reward,done,info = self.env.step(action)\n",
    "        return next_obs, reward, done\n",
    "    \n",
    "    def update(self,advantage,log_prob,entropy):\n",
    "        "
   ]
  }
 ],
 "metadata": {
  "kernelspec": {
   "display_name": "robotics",
   "language": "python",
   "name": "python3"
  },
  "language_info": {
   "codemirror_mode": {
    "name": "ipython",
    "version": 3
   },
   "file_extension": ".py",
   "mimetype": "text/x-python",
   "name": "python",
   "nbconvert_exporter": "python",
   "pygments_lexer": "ipython3",
   "version": "3.10.12"
  },
  "orig_nbformat": 4
 },
 "nbformat": 4,
 "nbformat_minor": 2
}
