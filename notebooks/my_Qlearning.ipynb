{
 "cells": [
  {
   "cell_type": "markdown",
   "metadata": {},
   "source": [
    "# My implementation of Q-learning\n",
    "\n",
    "1. off-policy\n",
    "\n",
    "2. TD learning method\n",
    "\n",
    "3. epsilon-greedy search"
   ]
  },
  {
   "cell_type": "markdown",
   "metadata": {},
   "source": [
    "install some libraries"
   ]
  },
  {
   "cell_type": "code",
   "execution_count": 10,
   "metadata": {},
   "outputs": [],
   "source": [
    "import gymnasium as gym\n",
    "import numpy as np\n",
    "import random\n",
    "import imageio\n",
    "%matplotlib inline"
   ]
  },
  {
   "cell_type": "markdown",
   "metadata": {},
   "source": [
    "have a try in gym"
   ]
  },
  {
   "cell_type": "code",
   "execution_count": 11,
   "metadata": {},
   "outputs": [],
   "source": [
    "env = gym.make(\"FrozenLake-v1\", map_name=\"4x4\", is_slippery=False, render_mode=\"rgb_array\")"
   ]
  },
  {
   "cell_type": "code",
   "execution_count": 12,
   "metadata": {},
   "outputs": [
    {
     "name": "stdout",
     "output_type": "stream",
     "text": [
      "observation space: Discrete(16)\n",
      "action space: Discrete(4)\n"
     ]
    }
   ],
   "source": [
    "print(f'observation space: {env.observation_space}')\n",
    "print(f'action space: {env.action_space}')"
   ]
  },
  {
   "cell_type": "code",
   "execution_count": 13,
   "metadata": {},
   "outputs": [
    {
     "name": "stdout",
     "output_type": "stream",
     "text": [
      "There are  16  possible states\n",
      "There are  4  possible actions\n"
     ]
    }
   ],
   "source": [
    "state_space = env.observation_space.n\n",
    "print(\"There are \", state_space, \" possible states\")\n",
    "\n",
    "action_space = env.action_space.n\n",
    "print(\"There are \", action_space, \" possible actions\")"
   ]
  },
  {
   "cell_type": "markdown",
   "metadata": {},
   "source": [
    "## build an agent to play the game"
   ]
  },
  {
   "cell_type": "code",
   "execution_count": 14,
   "metadata": {},
   "outputs": [],
   "source": [
    "class agent():\n",
    "    \"\"\"interact and learn from the environment\"\"\"\n",
    "    def __init__(self,\n",
    "                 env,\n",
    "                 state_space,\n",
    "                 action_space,\n",
    "                 lr,\n",
    "                 gamma,\n",
    "                 n_training_episode,\n",
    "                 n_eval_episode,\n",
    "                 min_epsilon,\n",
    "                 max_epsilon,\n",
    "                 decay_rate,\n",
    "                 max_step\n",
    "                 ):\n",
    "        \"\"\"init an all-zero Q table\"\"\"\n",
    "        self.q_table = np.zeros((state_space,action_space))\n",
    "        self.env = env\n",
    "        self.lr = lr\n",
    "        self.gamma = gamma\n",
    "        self.n_training_episode = n_training_episode\n",
    "        self.n_eval_episode = n_eval_episode\n",
    "        self.min_epsilon = min_epsilon\n",
    "        self.max_epsilon = max_epsilon\n",
    "        self.decay_rate = decay_rate\n",
    "        self.max_step = max_step\n",
    "        \n",
    "    def act(self,state,ep = None):\n",
    "        \"\"\"choose an action given a state\"\"\"\n",
    "        # greedy search\n",
    "        # epsilon greedy search\n",
    "        if ep is not None:\n",
    "            # choose the action using epsilon greedy search\n",
    "            p = random.random()\n",
    "            if p > ep:\n",
    "                action = np.argmax(self.q_table[state][:])\n",
    "            else:\n",
    "                action = self.env.action_space.sample()\n",
    "                \n",
    "        else:\n",
    "            # choose the optimal action\n",
    "            action = np.argmax(self.q_table[state][:])\n",
    "            \n",
    "        return action\n",
    "    \n",
    "    def step(self, state, ep=None):\n",
    "        \"\"\"the agent walk a step, that means the agent choose an action given a observation \n",
    "        and obtain the next observation and reward\"\"\"\n",
    "        action  = self.act(state, ep)\n",
    "        observation, reward, terminated, truncated, info = self.env.step(action)\n",
    "        return action,observation,reward,terminated,truncated\n",
    "    \n",
    "    def update(self,state,ep):\n",
    "        \"\"\"agent updates it's Q-values using next_observation and reward\"\"\"\n",
    "        action,next_obs,reward,terminated,truncated = self.step(state,ep)\n",
    "        self.q_table[state][action] = self.q_table[state][action] + self.lr * (reward + self.gamma * np.max(self.q_table[next_obs]) - self.q_table[state][action])\n",
    "        return self.q_table, next_obs, terminated, truncated\n",
    "        \n",
    "    def train(self):\n",
    "        for episode in range(self.n_training_episode):\n",
    "            # we should update the epsilon at very episode firstly\n",
    "            ep = self.min_epsilon + (self.max_epsilon - self.min_epsilon) * np.exp(-self.decay_rate * episode)\n",
    "            \n",
    "            # init the state\n",
    "            state,info = self.env.reset()\n",
    "            step = 0\n",
    "            terminated = False\n",
    "            truncated = False\n",
    "            \n",
    "            # iter every step in an episode\n",
    "            for step in range(self.max_step):\n",
    "                # choose an anction using epsilon greedy search\n",
    "                # take the action and observe the S_{t+1} and Rt\n",
    "                # update the parameters\n",
    "                self.q_table, next_state, terminated, truncated = self.update(state = state,\n",
    "                                                                               ep = ep)\n",
    "                \n",
    "                \n",
    "                if terminated or truncated:\n",
    "                    break\n",
    "                \n",
    "                # next state is the new state\n",
    "                state = next_state\n",
    "                \n",
    "    def evaluate(self):\n",
    "        \"\"\"evaluate the agent\"\"\"\n",
    "        episode_rewards = []\n",
    "        \n",
    "        for episode in range(self.n_eval_episode):\n",
    "            \n",
    "            # init the state\n",
    "            state,info = self.env.reset()\n",
    "            step = 0\n",
    "            truncated = False\n",
    "            terminated = False\n",
    "            total_rewards_ep = 0\n",
    "            \n",
    "            for step in range(self.max_step):\n",
    "                action,next_state,reward,terminated,truncated = self.step(state)\n",
    "                total_rewards_ep += reward\n",
    "                \n",
    "                if terminated or truncated:\n",
    "                    break\n",
    "                \n",
    "                state = next_state\n",
    "            \n",
    "            episode_rewards.append(total_rewards_ep)\n",
    "        \n",
    "        # mean and std of rewards\n",
    "        mean_rewards = np.mean(episode_rewards)\n",
    "        std_rewards = np.std(episode_rewards)\n",
    "        \n",
    "        return mean_rewards,std_rewards\n",
    "    \n",
    "    def record_video(self,save_path,fps=1):\n",
    "        imgs = []\n",
    "        terminated = False\n",
    "        truncated = False\n",
    "        state,info = self.env.reset(seed = random.randint(0,500))\n",
    "        img = self.env.render()\n",
    "        imgs.append(img)\n",
    "        while not terminated or truncated:\n",
    "            # Take the action (index) that have the maximum expected future reward given that state\n",
    "            action = np.argmax(self.q_table[state][:])\n",
    "            state, reward, terminated, truncated, info = self.env.step(action) # We directly put next_state = state for recording logic\n",
    "            img = env.render()\n",
    "            imgs.append(img)\n",
    "        imageio.mimsave(save_path, [np.array(img) for i, img in enumerate(imgs)], fps=fps)\n",
    "        \n",
    "        \n",
    "        "
   ]
  },
  {
   "cell_type": "markdown",
   "metadata": {},
   "source": [
    "## train the agent"
   ]
  },
  {
   "cell_type": "code",
   "execution_count": 15,
   "metadata": {},
   "outputs": [],
   "source": [
    "# hyperparameters\n",
    "n_training_episode = 10000\n",
    "n_eval_episode = 100\n",
    "lr = 0.7\n",
    "max_step = 99\n",
    "gamma = 0.95\n",
    "max_epsilon = 1.0\n",
    "min_epsilon = 0.05\n",
    "decay_rate = 0.0005\n",
    "\n",
    "# instance the agent\n",
    "FrozenLakeAgent = agent(env,\n",
    "                        state_space,\n",
    "                        action_space,\n",
    "                        lr,\n",
    "                        gamma,\n",
    "                        n_training_episode,\n",
    "                        n_eval_episode,\n",
    "                        min_epsilon,\n",
    "                        max_epsilon,\n",
    "                        decay_rate,\n",
    "                        max_step)"
   ]
  },
  {
   "cell_type": "code",
   "execution_count": 16,
   "metadata": {},
   "outputs": [
    {
     "name": "stdout",
     "output_type": "stream",
     "text": [
      "[[0.73509189 0.77378094 0.77378094 0.73509189]\n",
      " [0.73509189 0.         0.81450625 0.77378094]\n",
      " [0.77378094 0.857375   0.77378094 0.81450625]\n",
      " [0.81450625 0.         0.77378094 0.77378094]\n",
      " [0.77378094 0.81450625 0.         0.73509189]\n",
      " [0.         0.         0.         0.        ]\n",
      " [0.         0.9025     0.         0.81450625]\n",
      " [0.         0.         0.         0.        ]\n",
      " [0.81450625 0.         0.857375   0.77378094]\n",
      " [0.81450625 0.9025     0.9025     0.        ]\n",
      " [0.857375   0.95       0.         0.857375  ]\n",
      " [0.         0.         0.         0.        ]\n",
      " [0.         0.         0.         0.        ]\n",
      " [0.         0.9025     0.95       0.857375  ]\n",
      " [0.9025     0.95       1.         0.9025    ]\n",
      " [0.         0.         0.         0.        ]]\n"
     ]
    }
   ],
   "source": [
    "FrozenLakeAgent.train()\n",
    "print(FrozenLakeAgent.q_table)"
   ]
  },
  {
   "cell_type": "markdown",
   "metadata": {},
   "source": [
    "## evaluate the agent"
   ]
  },
  {
   "cell_type": "code",
   "execution_count": 17,
   "metadata": {},
   "outputs": [
    {
     "data": {
      "text/plain": [
       "(1.0, 0.0)"
      ]
     },
     "execution_count": 17,
     "metadata": {},
     "output_type": "execute_result"
    }
   ],
   "source": [
    "mean_rewards, std_rewards = FrozenLakeAgent.evaluate()\n",
    "mean_rewards, std_rewards"
   ]
  },
  {
   "cell_type": "markdown",
   "metadata": {},
   "source": [
    "## record the video"
   ]
  },
  {
   "cell_type": "code",
   "execution_count": 18,
   "metadata": {},
   "outputs": [],
   "source": [
    "save_path = '/Users/gaohaitao/robotics-tutorial/record_videos/FrozenLake/replay.mp4'\n",
    "FrozenLakeAgent.record_video(save_path=save_path,fps=1)"
   ]
  }
 ],
 "metadata": {
  "kernelspec": {
   "display_name": "robotics",
   "language": "python",
   "name": "python3"
  },
  "language_info": {
   "codemirror_mode": {
    "name": "ipython",
    "version": 3
   },
   "file_extension": ".py",
   "mimetype": "text/x-python",
   "name": "python",
   "nbconvert_exporter": "python",
   "pygments_lexer": "ipython3",
   "version": "3.10.12"
  },
  "orig_nbformat": 4
 },
 "nbformat": 4,
 "nbformat_minor": 2
}
