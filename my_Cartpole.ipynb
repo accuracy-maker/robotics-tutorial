{
 "cells": [
  {
   "cell_type": "markdown",
   "metadata": {},
   "source": [
    "# My implementation of DQN in cartpole environment\n",
    "\n",
    "DQN has 3 keys:\n",
    "\n",
    "1. replay buffer\n",
    "\n",
    "2. policy net & target net\n",
    "\n",
    "3. epsilon greedy search algorithm\n",
    "\n",
    "Then we should train the network and update the parameters"
   ]
  },
  {
   "cell_type": "code",
   "execution_count": null,
   "metadata": {},
   "outputs": [],
   "source": []
  }
 ],
 "metadata": {
  "kernelspec": {
   "display_name": "robotics",
   "language": "python",
   "name": "python3"
  },
  "language_info": {
   "name": "python",
   "version": "3.10.12"
  },
  "orig_nbformat": 4
 },
 "nbformat": 4,
 "nbformat_minor": 2
}
