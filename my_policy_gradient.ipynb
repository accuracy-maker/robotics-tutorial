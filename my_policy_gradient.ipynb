{
 "cells": [
  {
   "cell_type": "markdown",
   "metadata": {},
   "source": [
    "# My implementation of policy gradient in CartPole\n",
    "\n",
    "Author: Haitao Gao\n",
    "Date: 3 Oct 2023\n",
    "env: gymanasuim.CartPole-v1\n",
    "\n",
    "Algorithm:\n",
    "1. init the policy network\n",
    "\n",
    "2. run an episode\n",
    "\n",
    "3. collect the reward and every timestep discounted returns (rewards to go)\n",
    "\n",
    "4. compute the gradient and update the parameters\n",
    "\n",
    "5. repeat the loop (step2 - step4) when the fix the conditions"
   ]
  },
  {
   "cell_type": "markdown",
   "metadata": {},
   "source": [
    "## import some libs and check the info of env"
   ]
  },
  {
   "cell_type": "code",
   "execution_count": 72,
   "metadata": {},
   "outputs": [],
   "source": [
    "import gymnasium as gym\n",
    "import numpy as np\n",
    "from collections import deque\n",
    "import matplotlib.pyplot as plt\n",
    "%matplotlib inline"
   ]
  },
  {
   "cell_type": "code",
   "execution_count": 73,
   "metadata": {},
   "outputs": [],
   "source": [
    "env = gym.make('CartPole-v1',render_mode = 'rgb')"
   ]
  },
  {
   "cell_type": "code",
   "execution_count": 74,
   "metadata": {},
   "outputs": [
    {
     "name": "stdout",
     "output_type": "stream",
     "text": [
      "state space: 4\n",
      "action space: 2\n"
     ]
    }
   ],
   "source": [
    "state_space = env.observation_space.shape[0]\n",
    "action_space = env.action_space.n\n",
    "print(f'state space: {state_space}')\n",
    "print(f'action space: {action_space}')"
   ]
  },
  {
   "cell_type": "code",
   "execution_count": 75,
   "metadata": {},
   "outputs": [
    {
     "data": {
      "text/plain": [
       "array([-0.00275117, -0.00286075, -0.04163363,  0.04228757], dtype=float32)"
      ]
     },
     "execution_count": 75,
     "metadata": {},
     "output_type": "execute_result"
    }
   ],
   "source": [
    "state,info = env.reset()\n",
    "state"
   ]
  },
  {
   "cell_type": "markdown",
   "metadata": {},
   "source": [
    "## Build the policy network\n",
    "\n",
    "![reinforce network](/Users/gaohaitao/robotics-tutorial/Algotithms/reinforce.png)\n",
    "\n",
    "*Note:* the figure is from hugging face DRL course!"
   ]
  },
  {
   "cell_type": "code",
   "execution_count": 76,
   "metadata": {},
   "outputs": [],
   "source": [
    "import torch\n",
    "import torch.nn as nn\n",
    "import torch.nn.functional as F\n",
    "# Note: torch.functional is difference with torch.nn.functional\n",
    "import torch.optim as optim\n",
    "# this is new lib in the policy gradient which is different with Q-learning\n",
    "from torch.distributions import Categorical\n",
    "\n",
    "class PolicyNet(nn.Module):\n",
    "    \"\"\"simply use the MLP since the env is very simple \"\"\"\n",
    "    def __init__(self,\n",
    "                 state_space,\n",
    "                 action_space,\n",
    "                 lr,\n",
    "                 device,\n",
    "                 fc1_dim = 16,\n",
    "                 fc2_dim = 16):\n",
    "        super(PolicyNet,self).__init__()\n",
    "        \n",
    "        self.state_space = state_space\n",
    "        self.action_space = action_space\n",
    "        self.lr = lr\n",
    "        self.device = device\n",
    "        \n",
    "        self.fc1 = nn.Linear(state_space,fc1_dim)\n",
    "        self.fc2 = nn.Linear(fc1_dim,fc2_dim)\n",
    "        self.fc3 = nn.Linear(fc2_dim,action_space)\n",
    "        # self.loss = []\n",
    "        self.optimizer = optim.Adam(self.parameters(),lr = self.lr)\n",
    "        self.to(self.device)\n",
    "        \n",
    "    def forward(self,x):\n",
    "        x = F.relu(self.fc1(x))\n",
    "        x = F.relu(self.fc2(x))\n",
    "        \n",
    "        return F.softmax(self.fc3(x),dim=1)"
   ]
  },
  {
   "cell_type": "markdown",
   "metadata": {},
   "source": [
    "## Let's build an agent that use the REINFORCE algorithm to play the game\n",
    "\n",
    "![pseudocode](/Users/gaohaitao/robotics-tutorial/Algotithms/pg_pseudocode.png)"
   ]
  },
  {
   "cell_type": "code",
   "execution_count": 77,
   "metadata": {},
   "outputs": [],
   "source": [
    "class Agent():\n",
    "    def __init__(self,\n",
    "                 env: gym.envs,\n",
    "                 state_space: int,\n",
    "                 action_space: int,\n",
    "                 lr: float,\n",
    "                 device: torch.device,\n",
    "                 gamma: float, # that means the discounted returns\n",
    "                 n_training_episodes: int,\n",
    "                 max_t):\n",
    "        \n",
    "        self.env = env\n",
    "        self.state_space = state_space\n",
    "        self.action_space = action_space\n",
    "        self.lr = lr\n",
    "        self.device = device\n",
    "        self.gamma = gamma\n",
    "        self.n_training_epsidoes = n_training_episodes\n",
    "        self.max_t = max_t\n",
    "        \n",
    "        self.policy_net = PolicyNet(self.state_space,self.action_space,self.lr,self.device)\n",
    "        \n",
    "    def act(self,state):\n",
    "        \"\"\"the agent choose an agent according to the policy_theta and state\"\"\"\n",
    "        # we should convert the state to torch.tensor since we need use the nn.module\n",
    "        # state is a ndarray\n",
    "        state = torch.from_numpy(state).float().unsqueeze(0).to(self.device)\n",
    "        # the action space is 2, so the ouput will be [p1,p2]\n",
    "        probs = self.policy_net(state).cpu()\n",
    "        # torch.distributions contains \"parameterizable\" probability distributions and sample function\n",
    "        # the tutorial of this packages is: https://pytorch.org/docs/stable/distributions.html\n",
    "        m = Categorical(probs)\n",
    "        action = m.sample()\n",
    "        return action.item(), m.log_prob(action)\n",
    "    \n",
    "    def step(self,action):\n",
    "        \"\"\"the agent take the choosen action and obtain the next observation and immedient reward\"\"\"\n",
    "        next_obs, reward, terminated, truncated, info = self.env.step(action)\n",
    "        done = terminated or truncated\n",
    "        return next_obs, reward, done\n",
    "    \n",
    "    def update(self,rewards,log_probs):\n",
    "        \"\"\"the agent will update the parameters when it collects a series of actions and returns\"\"\"\n",
    "        # formula: L(\\theta) = \\frac{1}{T} * \\sum_{t=0}^{T-1} G_t * log \\pi_theta(At | St)\n",
    "        # optimize the L(\\theta)\n",
    "        policy_loss = []\n",
    "        for log_prob,disc_return in zip(log_probs,rewards):\n",
    "            policy_loss.append(-1 * log_prob * disc_return)\n",
    "        policy_loss = torch.cat(policy_loss).sum()\n",
    "        \n",
    "        self.policy_net.optimizer.zero_grad()\n",
    "        policy_loss.backward()\n",
    "        self.policy_net.optimizer.step()\n",
    "        \n",
    "    def train(self):\n",
    "        \"\"\"train the agent N_training_episodes and improve the perfermance\"\"\"\n",
    "        # define some datastructures to store the infos\n",
    "        scores_deque = deque(maxlen=100) \n",
    "        scores = []\n",
    "        avg_scores = []\n",
    "        # Algorithm line3\n",
    "        for episode in range(self.n_training_epsidoes):\n",
    "            # init some lists to store information every episode\n",
    "            saved_log_probs = []       \n",
    "            rewards = []\n",
    "            \n",
    "            # init the env\n",
    "            state,info = self.env.reset()\n",
    "            # loop max_t\n",
    "            for t in range(self.max_t):\n",
    "                # Algorithm line 4\n",
    "                action,log_prob_action = self.act(state)\n",
    "                saved_log_probs.append(log_prob_action)\n",
    "                next_obs,reward,done = self.step(action)\n",
    "                rewards.append(reward)\n",
    "                if done:\n",
    "                    break\n",
    "                # I forget this operation firstly and the scores don't increase :(\n",
    "                state = next_obs\n",
    "            scores_deque.append(sum(rewards))\n",
    "            scores.append(sum(rewards))\n",
    "            avg_scores.append(np.mean(scores_deque))\n",
    "            \n",
    "            # Algorithm line 6\n",
    "            returns = deque(maxlen=self.max_t)\n",
    "            n_steps = len(rewards)\n",
    "            # compute the discounted returns\n",
    "            for t in range(n_steps)[::-1]:\n",
    "                disc_return_t = (returns[0] if len(returns)>0 else 0)\n",
    "                returns.appendleft(rewards[t] + self.gamma * disc_return_t)\n",
    "                \n",
    "            # standardization of returns is employed to make training more stable\n",
    "            eps = np.finfo(np.float32).eps.item()\n",
    "            returns = torch.tensor(returns)\n",
    "            returns = (returns - returns.mean()) / (returns.std() + eps)\n",
    "            \n",
    "            # Algorithm line 7 and line 8\n",
    "            self.update(returns,saved_log_probs)\n",
    "            \n",
    "            \n",
    "            if episode % 100 == 0:\n",
    "                print(f'episode: {episode} | average score: {np.mean(scores_deque)}')\n",
    "            \n",
    "        fig, (ax1, ax2) = plt.subplots(2, 1, sharex=True)\n",
    "        fig.suptitle('Training Progress')\n",
    "\n",
    "        ax1.plot(scores, label='Episode Scores', color='b')\n",
    "        ax1.set_xlabel('Episode')\n",
    "        ax1.set_ylabel('scores', color='b')\n",
    "        ax1.tick_params(axis='y', labelcolor='b')\n",
    "\n",
    "        ax2.plot(avg_scores, label='Episode Average Score', color='r')\n",
    "        ax2.set_xlabel('Episode')\n",
    "        ax2.set_ylabel('Average Score', color='r')\n",
    "        ax2.tick_params(axis='y', labelcolor='r')\n",
    "\n",
    "        plt.show()\n",
    "        \n",
    "            \n",
    "        \n",
    "        "
   ]
  },
  {
   "cell_type": "markdown",
   "metadata": {},
   "source": [
    "## instance the agent using hyperparameters"
   ]
  },
  {
   "cell_type": "code",
   "execution_count": 78,
   "metadata": {},
   "outputs": [],
   "source": [
    "# Hyperparameters\n",
    "state_space = env.observation_space.shape[0]\n",
    "action_space = env.action_space.n\n",
    "lr = 1e-2\n",
    "device = torch.device('cuda' if torch.cuda.is_available() else 'cpu')\n",
    "gamma = 1.0\n",
    "n_training_episodes = 1000\n",
    "max_t = 1000\n",
    "\n",
    "CartPoleAgent = Agent(\n",
    "    env,\n",
    "    state_space,\n",
    "    action_space,\n",
    "    lr,\n",
    "    device,\n",
    "    gamma,\n",
    "    n_training_episodes,\n",
    "    max_t\n",
    ")"
   ]
  },
  {
   "cell_type": "code",
   "execution_count": 79,
   "metadata": {},
   "outputs": [
    {
     "name": "stdout",
     "output_type": "stream",
     "text": [
      "episode: 0 | average score: 13.0\n",
      "episode: 100 | average score: 26.99\n",
      "episode: 200 | average score: 129.76\n",
      "episode: 300 | average score: 305.82\n",
      "episode: 400 | average score: 111.57\n",
      "episode: 500 | average score: 375.52\n",
      "episode: 600 | average score: 459.36\n",
      "episode: 700 | average score: 302.59\n",
      "episode: 800 | average score: 330.39\n",
      "episode: 900 | average score: 422.25\n"
     ]
    },
    {
     "data": {
      "image/png": "[encoded data removed]",
      "text/plain": [
       "<Figure size 640x480 with 2 Axes>"
      ]
     },
     "metadata": {},
     "output_type": "display_data"
    }
   ],
   "source": [
    "CartPoleAgent.train()"
   ]
  },
  {
   "cell_type": "code",
   "execution_count": null,
   "metadata": {},
   "outputs": [],
   "source": []
  }
 ],
 "metadata": {
  "kernelspec": {
   "display_name": "robotics",
   "language": "python",
   "name": "python3"
  },
  "language_info": {
   "codemirror_mode": {
    "name": "ipython",
    "version": 3
   },
   "file_extension": ".py",
   "mimetype": "text/x-python",
   "name": "python",
   "nbconvert_exporter": "python",
   "pygments_lexer": "ipython3",
   "version": "3.10.12"
  },
  "orig_nbformat": 4
 },
 "nbformat": 4,
 "nbformat_minor": 2
}
