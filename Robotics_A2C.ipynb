{
 "cells": [
  {
   "cell_type": "markdown",
   "metadata": {},
   "source": [
    "# My implementation of Actor-Critic Method\n",
    "\n",
    "In this file, I will use the Panda-Robotics to evaluate my agent's perfermance"
   ]
  },
  {
   "cell_type": "markdown",
   "metadata": {},
   "source": [
    "## import some packages and check the env\n",
    "\n",
    "*Remerber:* we need to install panda_gym\n",
    "\n",
    "*pip install panda_gym*"
   ]
  },
  {
   "cell_type": "code",
   "execution_count": 16,
   "metadata": {},
   "outputs": [],
   "source": [
    "import gymnasium as gym\n",
    "import numpy as np\n",
    "# these are new packages in this file\n",
    "import panda_gym\n",
    "import stable_baselines3\n",
    "from stable_baselines3.common.vec_env import DummyVecEnv, VecNormalize\n",
    "from stable_baselines3.common.env_util import make_vec_env\n",
    "from collections import deque\n",
    "import matplotlib.pyplot as plt\n",
    "import random\n",
    "import imageio\n",
    "import tensorboard\n",
    "from torch.utils.tensorboard import SummaryWriter\n",
    "%matplotlib inline"
   ]
  },
  {
   "cell_type": "code",
   "execution_count": 17,
   "metadata": {},
   "outputs": [
    {
     "name": "stdout",
     "output_type": "stream",
     "text": [
      "argv[0]=--background_color_red=0.8745098114013672\n",
      "argv[1]=--background_color_green=0.21176470816135406\n",
      "argv[2]=--background_color_blue=0.1764705926179886\n",
      "state space: Dict('achieved_goal': Box(-10.0, 10.0, (3,), float32), 'desired_goal': Box(-10.0, 10.0, (3,), float32), 'observation': Box(-10.0, 10.0, (6,), float32))\n",
      "action space: (3,)\n"
     ]
    }
   ],
   "source": [
    "env_id = 'PandaReachDense-v3'\n",
    "env = gym.make(env_id)\n",
    "state_space = env.observation_space\n",
    "action_space = env.action_space.shape\n",
    "print(f'state space: {state_space}')\n",
    "print(f'action space: {action_space}')"
   ]
  },
  {
   "cell_type": "code",
   "execution_count": 18,
   "metadata": {},
   "outputs": [
    {
     "name": "stdout",
     "output_type": "stream",
     "text": [
      "argv[0]=--background_color_red=0.8745098114013672\n",
      "argv[1]=--background_color_green=0.21176470816135406\n",
      "argv[2]=--background_color_blue=0.1764705926179886\n"
     ]
    },
    {
     "data": {
      "text/plain": [
       "(1, 12)"
      ]
     },
     "execution_count": 18,
     "metadata": {},
     "output_type": "execute_result"
    }
   ],
   "source": [
    "env = make_vec_env(env_id, n_envs=1)\n",
    "\n",
    "env = VecNormalize(env, norm_obs=True, norm_reward=True, clip_obs=10.)\n",
    "\n",
    "obs = env.reset()\n",
    "\n",
    "achieved_goal = obs['achieved_goal']\n",
    "desired_goal = obs['desired_goal']\n",
    "observation = obs['observation']\n",
    "\n",
    "merged_array = np.concatenate([achieved_goal, desired_goal, observation], axis=-1)\n",
    "merged_array.shape"
   ]
  },
  {
   "cell_type": "code",
   "execution_count": 19,
   "metadata": {},
   "outputs": [
    {
     "data": {
      "text/plain": [
       "(OrderedDict([('achieved_goal',\n",
       "               array([[0.3002627 , 0.41891107, 0.38608927]], dtype=float32)),\n",
       "              ('desired_goal',\n",
       "               array([[4.8770478e-05, 7.0380629e-04, 1.2378085e-03]], dtype=float32)),\n",
       "              ('observation',\n",
       "               array([[0.3002627 , 0.41891107, 0.38608927, 0.95961255, 0.9774778 ,\n",
       "                       0.98220915]], dtype=float32))]),\n",
       " array([-10.], dtype=float32),\n",
       " array([False]),\n",
       " [{'is_success': False, 'TimeLimit.truncated': False}])"
      ]
     },
     "execution_count": 19,
     "metadata": {},
     "output_type": "execute_result"
    }
   ],
   "source": [
    "action  = env.action_space.sample()\n",
    "env.step(action)"
   ]
  },
  {
   "cell_type": "markdown",
   "metadata": {},
   "source": [
    "## Build compentes of the A2C algorithm\n",
    "\n",
    "1. Actor Network\n",
    "\n",
    "2. Value-function Network\n",
    "\n",
    "There are serval common baseline\n",
    "\n",
    "1. REINFORCE\n",
    "\n",
    "2. Q Actor-Critic\n",
    "\n",
    "3. Advantage Actor-Critic\n",
    "\n",
    "4. TD Actor-Critic"
   ]
  },
  {
   "cell_type": "code",
   "execution_count": 20,
   "metadata": {},
   "outputs": [],
   "source": [
    "import torch\n",
    "import torch.nn as nn\n",
    "import torch.nn.functional as F\n",
    "import torch.optim as optim\n",
    "# we don't use the Categorical since the actions are continuous\n",
    "# we should use the Normal to model the continous distribution\n",
    "from torch.distributions import Categorical,Normal"
   ]
  },
  {
   "cell_type": "code",
   "execution_count": 21,
   "metadata": {},
   "outputs": [],
   "source": [
    "writer = SummaryWriter()"
   ]
  },
  {
   "cell_type": "code",
   "execution_count": 22,
   "metadata": {},
   "outputs": [],
   "source": [
    "# # we conbine the actornetwork and criticnetwork into a whole network\n",
    "# class ActorCritic(nn.Module):\n",
    "#     \"\"\"This network includes a net to output action and a net to output value\"\"\"\n",
    "#     def __init__(\n",
    "#         self,\n",
    "#         state_space,\n",
    "#         action_space,\n",
    "#         lr,\n",
    "#         device,\n",
    "#         fc1_unit = 64,\n",
    "#         fc2_unit = 64\n",
    "#     ):\n",
    "#         super(ActorCritic,self).__init__()\n",
    "#         self.state_space = state_space\n",
    "#         self.action_space = action_space\n",
    "#         self.lr = lr\n",
    "#         self.device = device\n",
    "        \n",
    "#         # nn.Sequential is really helpful\n",
    "#         # Actor\n",
    "#         self.actor = nn.Sequential(\n",
    "#             nn.Linear(state_space,fc1_unit),\n",
    "#             # in the sequential we should use the nn.ReLU() instead of torch.nn.functional.relu()\n",
    "#             # cause nn.ReLU is a module while functional.relu is a independent function\n",
    "#             nn.ReLU(),\n",
    "#             nn.Linear(fc1_unit,fc2_unit),\n",
    "#             nn.ReLU(),\n",
    "#             # action_space * 2: we aim to output the mean and std of the action distribution\n",
    "#             nn.Linear(fc2_unit,action_space*2)\n",
    "#         )\n",
    "        \n",
    "#         # Critic\n",
    "#         self.critic = nn.Sequential(\n",
    "#             nn.Linear(state_space,fc1_unit),\n",
    "#             nn.ReLU(),\n",
    "#             nn.Linear(fc1_unit,fc2_unit),\n",
    "#             nn.ReLU(),\n",
    "#             nn.Linear(fc2_unit,1) # output the value\n",
    "#         )\n",
    "        \n",
    "#         self.optimizer = optim.Adam(self.parameters(),lr = lr)\n",
    "#         self.to(self.device)\n",
    "        \n",
    "#     def forward(self,state):\n",
    "\n",
    "#         value = self.critic(state)\n",
    "        \n",
    "#         # output the mean and std of action distribution\n",
    "#         x = self.actor(state)\n",
    "#         # why log_std?\n",
    "#         # because the log_std is (-infinite, +infinite)\n",
    "#         mean,log_std = x[:,:self.action_space], x[:,self.action_space:]\n",
    "#         return value,mean,log_std\n",
    "    \n",
    "#     def process_input(self,x):\n",
    "#         achieved_goal = x['achieved_goal']\n",
    "#         desired_goal = x['desired_goal']\n",
    "#         observation = x['observation']\n",
    "#         merged_array = np.concatenate([achieved_goal, desired_goal, observation], axis=-1)\n",
    "#         state = torch.from_numpy(merged_array).float()\n",
    "#         return state"
   ]
  },
  {
   "cell_type": "code",
   "execution_count": 23,
   "metadata": {},
   "outputs": [],
   "source": [
    "# helper function: to concatenate the input and convert them to tensor\n",
    "def t(x):\n",
    "    achieved_goal = x['achieved_goal']\n",
    "    desired_goal = x['desired_goal']\n",
    "    observation = x['observation']\n",
    "    merged_array = np.concatenate([achieved_goal, desired_goal, observation], axis=-1)\n",
    "    return torch.from_numpy(merged_array).float()"
   ]
  },
  {
   "cell_type": "code",
   "execution_count": 24,
   "metadata": {},
   "outputs": [],
   "source": [
    "# I found that the results are bad and the agent can't learn anything easily, so I decide to split one network to two networks\n",
    "# which are updated sperately\n",
    "# Actor module, categorical actions only\n",
    "class Actor(nn.Module):\n",
    "    def __init__(self, state_space, action_space,lr,device):\n",
    "        super(Actor,self).__init__()\n",
    "        # self.model = nn.Sequential(\n",
    "        #     nn.Linear(state_space, 32),\n",
    "        #     nn.ReLU(),\n",
    "        #     nn.Linear(32, 32),\n",
    "        #     nn.ReLU(),\n",
    "        #     nn.Linear(32, action_space * 2), #the acition space is continous\n",
    "        # )\n",
    "        self.fc1 = nn.Linear(state_space, 32)\n",
    "        self.fc2 = nn.Linear(32, 32)\n",
    "        self.fc3 = nn.Linear(32, action_space * 2)\n",
    "        \n",
    "        for layer in [self.fc1, self.fc2, self.fc3]:\n",
    "            if isinstance(layer, nn.Linear):\n",
    "                nn.init.xavier_uniform_(layer.weight)\n",
    "\n",
    "        \n",
    "        self.optimizer = optim.Adam(self.parameters(),lr=lr)\n",
    "        self.to(device)\n",
    "    \n",
    "    def forward(self, X):\n",
    "        X = F.relu(self.fc1(t(X)))\n",
    "        X = F.relu(self.fc2(X))\n",
    "        out = self.fc3(X)\n",
    "        return out"
   ]
  },
  {
   "cell_type": "code",
   "execution_count": 25,
   "metadata": {},
   "outputs": [],
   "source": [
    "# Critic module\n",
    "class Critic(nn.Module):\n",
    "    def __init__(self, state_space,lr,device):\n",
    "        super().__init__()\n",
    "        self.model = nn.Sequential(\n",
    "            nn.Linear(state_space, 64),\n",
    "            nn.ReLU(),\n",
    "            nn.Linear(64,32),\n",
    "            nn.ReLU(),\n",
    "            nn.Linear(32, 1)\n",
    "        )\n",
    "        self.optimizer = optim.Adam(self.parameters(),lr=lr)\n",
    "        self.to(device)\n",
    "    \n",
    "    def forward(self, X):\n",
    "        return self.model(t(X))"
   ]
  },
  {
   "cell_type": "markdown",
   "metadata": {},
   "source": [
    "## build an agent and play the game\n",
    "\n",
    "![algorithm_figure](Algotithms/A2C.png)\n",
    "\n",
    "*This picture is from https://towardsdatascience.com/understanding-actor-critic-methods-931b97b6df3f*"
   ]
  },
  {
   "cell_type": "code",
   "execution_count": 26,
   "metadata": {},
   "outputs": [],
   "source": [
    "class Agent():\n",
    "    def __init__(\n",
    "        self,\n",
    "        env: gym.envs,\n",
    "        state_space: int,\n",
    "        action_space: int,\n",
    "        lr: float,\n",
    "        device: torch.device,\n",
    "        gamma: float, # discounted rewards\n",
    "        n_training_episodes: int,\n",
    "        n_eval_episodes: int,\n",
    "        max_t: int\n",
    "    ):\n",
    "        # init the variables\n",
    "        self.env = env\n",
    "        self.state_space = state_space\n",
    "        self.action_space = action_space\n",
    "        self.lr = lr\n",
    "        self.device = device\n",
    "        self.gamma = gamma\n",
    "        self.n_training_episodes = n_training_episodes\n",
    "        self.n_eval_episodes = n_eval_episodes\n",
    "        self.max_t = max_t\n",
    "        \n",
    "        # self.actor_critic = ActorCritic(state_space,action_space,\n",
    "        #                                 lr,device)\n",
    "        self.actor = Actor(state_space,action_space,lr,device)\n",
    "        self.critic = Critic(state_space,lr,device)\n",
    "        \n",
    "    def act(self,state):\n",
    "        # choose an action given a state\n",
    "        ## Firstly, we should convert the state to torch.tensor since we need use GPU to train\n",
    "        ## This is new to the code because the input state is a Dict\n",
    "        ## The dict includes 'observation', 'achieved_goal', 'desired_goal'\n",
    "        # the operation of sampling action is different with previous codes\n",
    "        # we need use the Normal() to model the distribution using mean and log_std\n",
    "        # then, sample the action\n",
    "        act_out = self.actor(state)\n",
    "        mean = act_out[:,:self.action_space]\n",
    "        log_std = act_out[:,self.action_space:]\n",
    "        # convert log_std to std\n",
    "        std = torch.exp(log_std)\n",
    "        normal = Normal(mean,std)\n",
    "        action = normal.sample()\n",
    "        log_prob = normal.log_prob(action)\n",
    "        return action.numpy(),log_prob\n",
    "    \n",
    "    def step(self,action):\n",
    "        # the agent take the action and obtain the next observation and immedient reward\n",
    "        next_obs,reward,done,info = self.env.step(action)\n",
    "        return next_obs, reward, done\n",
    "    \n",
    "    def update(self,advantage,log_prob):\n",
    "        \"\"\"this is different with previous codes because we need to update two networks at each time_step\"\"\"\n",
    "        # Note that Variable 'advantages' must be tensor\n",
    "        # policy_loss = -torch.mean(advantage * log_prob)\n",
    "        # loss_array = -advantage.detach() * log_prob\n",
    "        # loss = torch.mean(loss_array)\n",
    "        advantage = (advantage - advantage.mean()) / (advantage.std() + 1e-8)\n",
    "        \n",
    "        policy_loss = torch.mean(-advantage.detach() * log_prob)\n",
    "        \n",
    "        writer.add_scalar('policy_loss',policy_loss)\n",
    "        \n",
    "        self.actor.optimizer.zero_grad()\n",
    "        policy_loss.backward()\n",
    "        self.actor.optimizer.step()\n",
    "        \n",
    "        \n",
    "        critic_loss = advantage.pow(2).mean()\n",
    "        \n",
    "        writer.add_scalar('critc_loss',critic_loss)\n",
    "        \n",
    "        self.critic.optimizer.zero_grad()\n",
    "        critic_loss.backward()\n",
    "        self.critic.optimizer.step()\n",
    "        \n",
    "    def train(self):\n",
    "        \"\"\"the agent will play many episodes and update it's parameters\"\"\"\n",
    "        scores_deque = deque(maxlen=100)\n",
    "        scores = []\n",
    "        avg_scores = []\n",
    "        \n",
    "        for episode in range(self.n_training_episodes):\n",
    "            # init some lists to store the infos\n",
    "            rewards = []\n",
    "            # in this method, we don't need to init saved_log_probs and rewards\n",
    "            # since we update the network at each timestep\n",
    "            # only need the immedient reward and predition of value\n",
    "            \n",
    "            # init the env where there isn't info\n",
    "            state = self.env.reset()\n",
    "            \n",
    "            # loop max_t\n",
    "            for t in range(self.max_t):\n",
    "                # sample an action\n",
    "                action,log_prob = self.act(state)\n",
    "                # stepforward\n",
    "                next_obs,reward,done = self.step(action)\n",
    "                rewards.append(reward)\n",
    "                \n",
    "                writer.add_scalar('timestep reward',reward)\n",
    "                \n",
    "                # compute the advantage function\n",
    "                # A = r + gamma * V(next) - V(now)\n",
    "                with torch.no_grad():\n",
    "                    value = self.critic(state)\n",
    "                    value_ = self.critic(next_obs)\n",
    "                advantage = torch.tensor(reward).float() + self.gamma * value_ * (1 - int(done)) - value\n",
    "                advantage.requires_grad = True\n",
    "                self.update(advantage,log_prob)\n",
    "                \n",
    "                if done:\n",
    "                    break\n",
    "                \n",
    "                state = next_obs\n",
    "            \n",
    "            scores_deque.append(sum(rewards))\n",
    "            writer.add_scalar('ep_reward',sum(rewards),episode)\n",
    "            scores.append(sum(rewards))\n",
    "            avg_scores.append(np.mean(scores_deque))\n",
    "            writer.add_scalar('avg_reward',np.mean(scores_deque))\n",
    "            \n",
    "            if episode % 100 == 0:\n",
    "                print(f'episode: {episode} | average score: {np.mean(scores_deque)}')\n",
    "                \n",
    "        fig, (ax1, ax2) = plt.subplots(2, 1, sharex=True)\n",
    "        fig.suptitle('Training Progress')\n",
    "\n",
    "        ax1.plot(scores, label='Episode Scores', color='b')\n",
    "        ax1.set_xlabel('Episode')\n",
    "        ax1.set_ylabel('scores', color='b')\n",
    "        ax1.tick_params(axis='y', labelcolor='b')\n",
    "\n",
    "        ax2.plot(avg_scores, label='Episode Average Score', color='r')\n",
    "        ax2.set_xlabel('Episode')\n",
    "        ax2.set_ylabel('Average Score', color='r')\n",
    "        ax2.tick_params(axis='y', labelcolor='r')\n",
    "        \n",
    "    # add the evaluate function\n",
    "    def evaluate(self):\n",
    "        episode_rewards = []\n",
    "        \n",
    "        for episode in range(self.n_eval_episodes):\n",
    "            # init the state\n",
    "            state = self.env.reset()\n",
    "            total_rewards_ep = 0\n",
    "            \n",
    "            for t in range(self.max_t):\n",
    "                action,_ = self.act(state)\n",
    "                next_obs,reward,done = self.step(action)\n",
    "                total_rewards_ep += reward\n",
    "                if done:\n",
    "                    break\n",
    "                \n",
    "                state = next_obs\n",
    "            \n",
    "            episode_rewards.append(total_rewards_ep)\n",
    "            \n",
    "        # mean and std of rewards\n",
    "        mean_rewards = np.mean(episode_rewards)\n",
    "        std_rewards = np.std(episode_rewards)\n",
    "        \n",
    "        return mean_rewards,std_rewards\n",
    "    \n",
    "    def record_video(self,save_path,fps=1):\n",
    "        imgs = []\n",
    "        done = False\n",
    "        state = self.env.reset()\n",
    "        img = self.env.render()\n",
    "        imgs.append(img)\n",
    "        while not done:\n",
    "            action,_ = self.act(state)\n",
    "            next_obs,reward,done = self.step(action)\n",
    "            img = self.env.render()\n",
    "            imgs.append(img)\n",
    "        imageio.mimsave(save_path, [np.array(img) for i, img in enumerate(imgs)], fps=fps)\n",
    "        "
   ]
  },
  {
   "cell_type": "code",
   "execution_count": 27,
   "metadata": {},
   "outputs": [],
   "source": [
    "# Hyperparameters\n",
    "state_space = merged_array.shape[-1]\n",
    "action_space = env.action_space.shape[0]\n",
    "lr = 0.001\n",
    "device = torch.device('cuda' if torch.cuda.is_available() else 'cpu')\n",
    "gamma = 0.9\n",
    "n_training_episodes = 2000\n",
    "n_eval_episodes = 200\n",
    "max_t = 10000\n",
    "\n",
    "RoboticsAgent = Agent(\n",
    "    env,\n",
    "    state_space,\n",
    "    action_space,\n",
    "    lr,\n",
    "    device,\n",
    "    gamma,\n",
    "    n_training_episodes,\n",
    "    n_eval_episodes,\n",
    "    max_t\n",
    ")"
   ]
  },
  {
   "cell_type": "code",
   "execution_count": 28,
   "metadata": {},
   "outputs": [
    {
     "name": "stderr",
     "output_type": "stream",
     "text": [
      "/var/folders/xt/fs8f0mrx5c7d2_ny5vdyy0ym0000gp/T/ipykernel_90313/905730670.py:109: DeprecationWarning: Conversion of an array with ndim > 0 to a scalar is deprecated, and will error in future. Ensure you extract a single element from your array before performing this operation. (Deprecated NumPy 1.25.)\n",
      "  advantage = torch.tensor(reward).float() + self.gamma * value_ * (1 - int(done)) - value\n"
     ]
    },
    {
     "ename": "ValueError",
     "evalue": "Expected parameter loc (Tensor of shape (1, 3)) of distribution Normal(loc: torch.Size([1, 3]), scale: torch.Size([1, 3])) to satisfy the constraint Real(), but found invalid values:\ntensor([[nan, nan, nan]], grad_fn=<SliceBackward0>)",
     "output_type": "error",
     "traceback": [
      "\u001b[0;31m---------------------------------------------------------------------------\u001b[0m",
      "\u001b[0;31mValueError\u001b[0m                                Traceback (most recent call last)",
      "\u001b[1;32m/Users/gaohaitao/robotics-tutorial/Robotics_A2C.ipynb Cell 17\u001b[0m line \u001b[0;36m1\n\u001b[0;32m----> <a href='vscode-notebook-cell:/Users/gaohaitao/robotics-tutorial/Robotics_A2C.ipynb#X22sZmlsZQ%3D%3D?line=0'>1</a>\u001b[0m RoboticsAgent\u001b[39m.\u001b[39;49mtrain()\n",
      "\u001b[1;32m/Users/gaohaitao/robotics-tutorial/Robotics_A2C.ipynb Cell 17\u001b[0m line \u001b[0;36m9\n\u001b[1;32m     <a href='vscode-notebook-cell:/Users/gaohaitao/robotics-tutorial/Robotics_A2C.ipynb#X22sZmlsZQ%3D%3D?line=93'>94</a>\u001b[0m \u001b[39m# loop max_t\u001b[39;00m\n\u001b[1;32m     <a href='vscode-notebook-cell:/Users/gaohaitao/robotics-tutorial/Robotics_A2C.ipynb#X22sZmlsZQ%3D%3D?line=94'>95</a>\u001b[0m \u001b[39mfor\u001b[39;00m t \u001b[39min\u001b[39;00m \u001b[39mrange\u001b[39m(\u001b[39mself\u001b[39m\u001b[39m.\u001b[39mmax_t):\n\u001b[1;32m     <a href='vscode-notebook-cell:/Users/gaohaitao/robotics-tutorial/Robotics_A2C.ipynb#X22sZmlsZQ%3D%3D?line=95'>96</a>\u001b[0m     \u001b[39m# sample an action\u001b[39;00m\n\u001b[0;32m---> <a href='vscode-notebook-cell:/Users/gaohaitao/robotics-tutorial/Robotics_A2C.ipynb#X22sZmlsZQ%3D%3D?line=96'>97</a>\u001b[0m     action,log_prob \u001b[39m=\u001b[39m \u001b[39mself\u001b[39;49m\u001b[39m.\u001b[39;49mact(state)\n\u001b[1;32m     <a href='vscode-notebook-cell:/Users/gaohaitao/robotics-tutorial/Robotics_A2C.ipynb#X22sZmlsZQ%3D%3D?line=97'>98</a>\u001b[0m     \u001b[39m# stepforward\u001b[39;00m\n\u001b[1;32m     <a href='vscode-notebook-cell:/Users/gaohaitao/robotics-tutorial/Robotics_A2C.ipynb#X22sZmlsZQ%3D%3D?line=98'>99</a>\u001b[0m     next_obs,reward,done \u001b[39m=\u001b[39m \u001b[39mself\u001b[39m\u001b[39m.\u001b[39mstep(action)\n",
      "\u001b[1;32m/Users/gaohaitao/robotics-tutorial/Robotics_A2C.ipynb Cell 17\u001b[0m line \u001b[0;36m4\n\u001b[1;32m     <a href='vscode-notebook-cell:/Users/gaohaitao/robotics-tutorial/Robotics_A2C.ipynb#X22sZmlsZQ%3D%3D?line=40'>41</a>\u001b[0m \u001b[39m# convert log_std to std\u001b[39;00m\n\u001b[1;32m     <a href='vscode-notebook-cell:/Users/gaohaitao/robotics-tutorial/Robotics_A2C.ipynb#X22sZmlsZQ%3D%3D?line=41'>42</a>\u001b[0m std \u001b[39m=\u001b[39m torch\u001b[39m.\u001b[39mexp(log_std)\n\u001b[0;32m---> <a href='vscode-notebook-cell:/Users/gaohaitao/robotics-tutorial/Robotics_A2C.ipynb#X22sZmlsZQ%3D%3D?line=42'>43</a>\u001b[0m normal \u001b[39m=\u001b[39m Normal(mean,std)\n\u001b[1;32m     <a href='vscode-notebook-cell:/Users/gaohaitao/robotics-tutorial/Robotics_A2C.ipynb#X22sZmlsZQ%3D%3D?line=43'>44</a>\u001b[0m action \u001b[39m=\u001b[39m normal\u001b[39m.\u001b[39msample()\n\u001b[1;32m     <a href='vscode-notebook-cell:/Users/gaohaitao/robotics-tutorial/Robotics_A2C.ipynb#X22sZmlsZQ%3D%3D?line=44'>45</a>\u001b[0m log_prob \u001b[39m=\u001b[39m normal\u001b[39m.\u001b[39mlog_prob(action)\n",
      "File \u001b[0;32m~/opt/anaconda3/envs/robotics/lib/python3.10/site-packages/torch/distributions/normal.py:56\u001b[0m, in \u001b[0;36mNormal.__init__\u001b[0;34m(self, loc, scale, validate_args)\u001b[0m\n\u001b[1;32m     54\u001b[0m \u001b[39melse\u001b[39;00m:\n\u001b[1;32m     55\u001b[0m     batch_shape \u001b[39m=\u001b[39m \u001b[39mself\u001b[39m\u001b[39m.\u001b[39mloc\u001b[39m.\u001b[39msize()\n\u001b[0;32m---> 56\u001b[0m \u001b[39msuper\u001b[39;49m()\u001b[39m.\u001b[39;49m\u001b[39m__init__\u001b[39;49m(batch_shape, validate_args\u001b[39m=\u001b[39;49mvalidate_args)\n",
      "File \u001b[0;32m~/opt/anaconda3/envs/robotics/lib/python3.10/site-packages/torch/distributions/distribution.py:62\u001b[0m, in \u001b[0;36mDistribution.__init__\u001b[0;34m(self, batch_shape, event_shape, validate_args)\u001b[0m\n\u001b[1;32m     60\u001b[0m         valid \u001b[39m=\u001b[39m constraint\u001b[39m.\u001b[39mcheck(value)\n\u001b[1;32m     61\u001b[0m         \u001b[39mif\u001b[39;00m \u001b[39mnot\u001b[39;00m valid\u001b[39m.\u001b[39mall():\n\u001b[0;32m---> 62\u001b[0m             \u001b[39mraise\u001b[39;00m \u001b[39mValueError\u001b[39;00m(\n\u001b[1;32m     63\u001b[0m                 \u001b[39mf\u001b[39m\u001b[39m\"\u001b[39m\u001b[39mExpected parameter \u001b[39m\u001b[39m{\u001b[39;00mparam\u001b[39m}\u001b[39;00m\u001b[39m \u001b[39m\u001b[39m\"\u001b[39m\n\u001b[1;32m     64\u001b[0m                 \u001b[39mf\u001b[39m\u001b[39m\"\u001b[39m\u001b[39m(\u001b[39m\u001b[39m{\u001b[39;00m\u001b[39mtype\u001b[39m(value)\u001b[39m.\u001b[39m\u001b[39m__name__\u001b[39m\u001b[39m}\u001b[39;00m\u001b[39m of shape \u001b[39m\u001b[39m{\u001b[39;00m\u001b[39mtuple\u001b[39m(value\u001b[39m.\u001b[39mshape)\u001b[39m}\u001b[39;00m\u001b[39m) \u001b[39m\u001b[39m\"\u001b[39m\n\u001b[1;32m     65\u001b[0m                 \u001b[39mf\u001b[39m\u001b[39m\"\u001b[39m\u001b[39mof distribution \u001b[39m\u001b[39m{\u001b[39;00m\u001b[39mrepr\u001b[39m(\u001b[39mself\u001b[39m)\u001b[39m}\u001b[39;00m\u001b[39m \u001b[39m\u001b[39m\"\u001b[39m\n\u001b[1;32m     66\u001b[0m                 \u001b[39mf\u001b[39m\u001b[39m\"\u001b[39m\u001b[39mto satisfy the constraint \u001b[39m\u001b[39m{\u001b[39;00m\u001b[39mrepr\u001b[39m(constraint)\u001b[39m}\u001b[39;00m\u001b[39m, \u001b[39m\u001b[39m\"\u001b[39m\n\u001b[1;32m     67\u001b[0m                 \u001b[39mf\u001b[39m\u001b[39m\"\u001b[39m\u001b[39mbut found invalid values:\u001b[39m\u001b[39m\\n\u001b[39;00m\u001b[39m{\u001b[39;00mvalue\u001b[39m}\u001b[39;00m\u001b[39m\"\u001b[39m\n\u001b[1;32m     68\u001b[0m             )\n\u001b[1;32m     69\u001b[0m \u001b[39msuper\u001b[39m()\u001b[39m.\u001b[39m\u001b[39m__init__\u001b[39m()\n",
      "\u001b[0;31mValueError\u001b[0m: Expected parameter loc (Tensor of shape (1, 3)) of distribution Normal(loc: torch.Size([1, 3]), scale: torch.Size([1, 3])) to satisfy the constraint Real(), but found invalid values:\ntensor([[nan, nan, nan]], grad_fn=<SliceBackward0>)"
     ]
    }
   ],
   "source": [
    "RoboticsAgent.train()"
   ]
  },
  {
   "cell_type": "markdown",
   "metadata": {},
   "source": [
    "According to the training progress figure, the dense reward are every close to zero that is a great result since the reward is the negtive\n",
    "Euclidean distance between the achieved goal position and the desired goal position.\n",
    "\n",
    "Don't worry, if you get the negtive rewards!"
   ]
  },
  {
   "cell_type": "code",
   "execution_count": null,
   "metadata": {},
   "outputs": [],
   "source": [
    "mean_reward,std_reward = RoboticsAgent.evaluate()\n",
    "mean_reward,std_reward"
   ]
  },
  {
   "cell_type": "code",
   "execution_count": null,
   "metadata": {},
   "outputs": [],
   "source": [
    "save_path = '/Users/gaohaitao/robotics-tutorial/record_videos/panda_gym/replay.mp4'\n",
    "RoboticsAgent.record_video(save_path=save_path,fps=20)"
   ]
  },
  {
   "cell_type": "code",
   "execution_count": null,
   "metadata": {},
   "outputs": [
    {
     "name": "stdout",
     "output_type": "stream",
     "text": [
      "TensorFlow installation not found - running with reduced feature set.\n",
      "\n",
      "NOTE: Using experimental fast data loading logic. To disable, pass\n",
      "    \"--load_fast=false\" and report issues on GitHub. More details:\n",
      "    https://github.com/tensorflow/tensorboard/issues/4784\n",
      "\n",
      "Serving TensorBoard on localhost; to expose to the network, use a proxy or pass --bind_all\n",
      "TensorBoard 2.14.1 at http://localhost:6006/ (Press CTRL+C to quit)\n",
      "^C\n"
     ]
    }
   ],
   "source": [
    "!tensorboard --logdir=runs"
   ]
  },
  {
   "cell_type": "code",
   "execution_count": null,
   "metadata": {},
   "outputs": [],
   "source": []
  }
 ],
 "metadata": {
  "kernelspec": {
   "display_name": "robotics",
   "language": "python",
   "name": "python3"
  },
  "language_info": {
   "codemirror_mode": {
    "name": "ipython",
    "version": 3
   },
   "file_extension": ".py",
   "mimetype": "text/x-python",
   "name": "python",
   "nbconvert_exporter": "python",
   "pygments_lexer": "ipython3",
   "version": "3.10.12"
  },
  "orig_nbformat": 4
 },
 "nbformat": 4,
 "nbformat_minor": 2
}
